{
  "cells": [
    {
      "cell_type": "code",
      "execution_count": 2,
      "metadata": {
        "id": "yTg4sd5mf055"
      },
      "outputs": [
        {
          "ename": "ModuleNotFoundError",
          "evalue": "No module named 'seaborn'",
          "output_type": "error",
          "traceback": [
            "\u001b[1;31m---------------------------------------------------------------------------\u001b[0m",
            "\u001b[1;31mModuleNotFoundError\u001b[0m                       Traceback (most recent call last)",
            "Cell \u001b[1;32mIn[2], line 4\u001b[0m\n\u001b[0;32m      2\u001b[0m \u001b[38;5;28;01mimport\u001b[39;00m\u001b[38;5;250m \u001b[39m\u001b[38;5;21;01mnumpy\u001b[39;00m\u001b[38;5;250m \u001b[39m\u001b[38;5;28;01mas\u001b[39;00m\u001b[38;5;250m \u001b[39m\u001b[38;5;21;01mnp\u001b[39;00m\n\u001b[0;32m      3\u001b[0m \u001b[38;5;28;01mimport\u001b[39;00m\u001b[38;5;250m \u001b[39m\u001b[38;5;21;01mmatplotlib\u001b[39;00m\u001b[38;5;21;01m.\u001b[39;00m\u001b[38;5;21;01mpyplot\u001b[39;00m\u001b[38;5;250m \u001b[39m\u001b[38;5;28;01mas\u001b[39;00m\u001b[38;5;250m \u001b[39m\u001b[38;5;21;01mplt\u001b[39;00m\n\u001b[1;32m----> 4\u001b[0m \u001b[38;5;28;01mimport\u001b[39;00m\u001b[38;5;250m \u001b[39m\u001b[38;5;21;01mseaborn\u001b[39;00m\u001b[38;5;250m \u001b[39m\u001b[38;5;28;01mas\u001b[39;00m\u001b[38;5;250m \u001b[39m\u001b[38;5;21;01msns\u001b[39;00m\n",
            "\u001b[1;31mModuleNotFoundError\u001b[0m: No module named 'seaborn'"
          ]
        }
      ],
      "source": [
        "import pandas as pd\n",
        "import numpy as np\n",
        "import matplotlib.pyplot as plt\n",
        "import seaborn as sns\n"
      ]
    },
    {
      "cell_type": "code",
      "execution_count": null,
      "metadata": {
        "id": "DbcY93X0CNiw"
      },
      "outputs": [],
      "source": []
    },
    {
      "cell_type": "code",
      "execution_count": null,
      "metadata": {
        "colab": {
          "base_uri": "https://localhost:8080/",
          "height": 186
        },
        "id": "_xd17gIjgGDY",
        "outputId": "6147c06c-1bc2-4cfb-b78c-50c21c2f168f"
      },
      "outputs": [],
      "source": [
        "type(housing)"
      ]
    },
    {
      "cell_type": "code",
      "execution_count": null,
      "metadata": {
        "colab": {
          "base_uri": "https://localhost:8080/"
        },
        "id": "X6TbXo_JgVzD",
        "outputId": "b52d5ab9-9444-42bb-9902-dbaee9703163"
      },
      "outputs": [],
      "source": [
        "housing.keys()"
      ]
    },
    {
      "cell_type": "code",
      "execution_count": null,
      "metadata": {
        "colab": {
          "base_uri": "https://localhost:8080/"
        },
        "id": "j5ZkDGfRgZL2",
        "outputId": "abbd6cae-32d4-4149-afe8-e42644ee8f6b"
      },
      "outputs": [],
      "source": [
        "print(housing.DESCR)"
      ]
    },
    {
      "cell_type": "code",
      "execution_count": null,
      "metadata": {
        "colab": {
          "base_uri": "https://localhost:8080/"
        },
        "id": "pjnDBXqigjix",
        "outputId": "6eae4905-714b-4d5b-9888-1f1574a3085c"
      },
      "outputs": [],
      "source": [
        "print(housing.data)"
      ]
    },
    {
      "cell_type": "code",
      "execution_count": null,
      "metadata": {
        "colab": {
          "base_uri": "https://localhost:8080/"
        },
        "id": "VA0epAjChNub",
        "outputId": "4203ff87-1f04-4724-d4e2-901fa91bb966"
      },
      "outputs": [],
      "source": [
        "housing.target"
      ]
    },
    {
      "cell_type": "code",
      "execution_count": null,
      "metadata": {
        "colab": {
          "base_uri": "https://localhost:8080/"
        },
        "id": "r2pLf4-ci1mt",
        "outputId": "0b9e6452-80b6-4b71-af83-e45e3de604bb"
      },
      "outputs": [],
      "source": [
        "housing.feature_names"
      ]
    },
    {
      "cell_type": "code",
      "execution_count": null,
      "metadata": {
        "colab": {
          "base_uri": "https://localhost:8080/",
          "height": 206
        },
        "id": "gkKZ8gjKi5o-",
        "outputId": "686dcf8a-c3af-427d-862f-1291d23ceba6"
      },
      "outputs": [],
      "source": [
        "dataset = pd.DataFrame(housing.data, columns=housing.feature_names)\n",
        "dataset.head()"
      ]
    },
    {
      "cell_type": "code",
      "execution_count": null,
      "metadata": {
        "colab": {
          "base_uri": "https://localhost:8080/",
          "height": 206
        },
        "id": "whT4Q8qTjVaN",
        "outputId": "cead60c5-6266-4498-9e7b-754156ab44fe"
      },
      "outputs": [],
      "source": [
        "dataset['Price'] = housing.target\n",
        "dataset.head()"
      ]
    },
    {
      "cell_type": "code",
      "execution_count": null,
      "metadata": {
        "colab": {
          "base_uri": "https://localhost:8080/"
        },
        "id": "SEfilCPUkKGM",
        "outputId": "c50b4ff2-d9a1-4ece-ab9d-3790038d9c61"
      },
      "outputs": [],
      "source": [
        "dataset.info()"
      ]
    },
    {
      "cell_type": "code",
      "execution_count": null,
      "metadata": {
        "colab": {
          "base_uri": "https://localhost:8080/",
          "height": 366
        },
        "id": "TGipNoJ9kQqP",
        "outputId": "6a418f21-208f-4c72-9ac5-a2cfe7cc992e"
      },
      "outputs": [],
      "source": [
        "dataset.isnull().sum()"
      ]
    },
    {
      "cell_type": "code",
      "execution_count": null,
      "metadata": {
        "colab": {
          "base_uri": "https://localhost:8080/",
          "height": 300
        },
        "id": "gi-ja8ASkV9A",
        "outputId": "55d0e4e5-2fc9-4161-d62d-89699dad06bb"
      },
      "outputs": [],
      "source": [
        "dataset.describe()"
      ]
    },
    {
      "cell_type": "code",
      "execution_count": null,
      "metadata": {
        "colab": {
          "base_uri": "https://localhost:8080/",
          "height": 331
        },
        "id": "Hmau5rF9kdcW",
        "outputId": "0ae716e2-ae2a-4704-96da-9c05b14b3d9f"
      },
      "outputs": [],
      "source": [
        "dataset.corr()"
      ]
    },
    {
      "cell_type": "code",
      "execution_count": null,
      "metadata": {
        "id": "tmGnuscTlEiP"
      },
      "outputs": [],
      "source": [
        "import seaborn as sns"
      ]
    },
    {
      "cell_type": "code",
      "execution_count": null,
      "metadata": {
        "colab": {
          "base_uri": "https://localhost:8080/",
          "height": 1000
        },
        "id": "hY3Co2nNydGE",
        "outputId": "44038b70-105b-4e82-eb5d-d1123a9bb602"
      },
      "outputs": [],
      "source": [
        "sns.pairplot(dataset)"
      ]
    },
    {
      "cell_type": "code",
      "execution_count": null,
      "metadata": {
        "colab": {
          "base_uri": "https://localhost:8080/",
          "height": 466
        },
        "id": "z21by_A9yelq",
        "outputId": "d97d6ba3-3c0a-4480-bc83-00094adddb03"
      },
      "outputs": [],
      "source": [
        "plt.scatter(dataset['Price'], dataset['MedInc'])\n",
        "plt.xlabel('Price')\n",
        "plt.ylabel('MedInc')"
      ]
    },
    {
      "cell_type": "code",
      "execution_count": null,
      "metadata": {
        "colab": {
          "base_uri": "https://localhost:8080/",
          "height": 466
        },
        "id": "C4twWPZ7y9ap",
        "outputId": "23fbbf21-0673-40e6-f0f9-b0568386ecd7"
      },
      "outputs": [],
      "source": [
        "plt.scatter(dataset['Price'], dataset['AveRooms'])\n",
        "plt.xlabel('Price')\n",
        "plt.ylabel('AveRooms')"
      ]
    },
    {
      "cell_type": "code",
      "execution_count": null,
      "metadata": {
        "colab": {
          "base_uri": "https://localhost:8080/",
          "height": 466
        },
        "id": "LyfwtZVczWMw",
        "outputId": "c5f8db97-3ee7-4eec-f7f0-3306015b93aa"
      },
      "outputs": [],
      "source": [
        "sns.regplot(x='Population', y='Price', data=dataset)"
      ]
    },
    {
      "cell_type": "code",
      "execution_count": null,
      "metadata": {
        "colab": {
          "base_uri": "https://localhost:8080/",
          "height": 466
        },
        "id": "-L_OCgaDzfkS",
        "outputId": "b0927382-f316-45dd-d1e3-681eddd8cf76"
      },
      "outputs": [],
      "source": [
        "sns.regplot(x='HouseAge', y='Price', data=dataset)"
      ]
    },
    {
      "cell_type": "code",
      "execution_count": null,
      "metadata": {
        "id": "T5RcpVS00SdV"
      },
      "outputs": [],
      "source": [
        "X = dataset.iloc[:, :-1]\n",
        "y = dataset.iloc[:, -1]"
      ]
    },
    {
      "cell_type": "code",
      "execution_count": null,
      "metadata": {
        "colab": {
          "base_uri": "https://localhost:8080/",
          "height": 206
        },
        "id": "a0i8Q7A81izW",
        "outputId": "8d2d181b-92ef-4495-89a4-3952e0f01792"
      },
      "outputs": [],
      "source": [
        "X.head()"
      ]
    },
    {
      "cell_type": "code",
      "execution_count": null,
      "metadata": {
        "colab": {
          "base_uri": "https://localhost:8080/",
          "height": 458
        },
        "id": "rr_TXZ8W1peN",
        "outputId": "7e5e4869-15a2-47b2-e97c-bed29eabbf9e"
      },
      "outputs": [],
      "source": [
        "y"
      ]
    },
    {
      "cell_type": "code",
      "execution_count": null,
      "metadata": {
        "id": "4VQYaCjz1qqK"
      },
      "outputs": [],
      "source": [
        "from sklearn.model_selection import train_test_split\n",
        "X_train, X_test, y_train, y_test = train_test_split(X, y, test_size=0.3, random_state=0)"
      ]
    },
    {
      "cell_type": "code",
      "execution_count": null,
      "metadata": {
        "id": "VjCGSoDq2HDr"
      },
      "outputs": [],
      "source": [
        "from sklearn.preprocessing import StandardScaler\n",
        "sc = StandardScaler()"
      ]
    },
    {
      "cell_type": "code",
      "execution_count": null,
      "metadata": {
        "id": "ENYWzF4V2lgl"
      },
      "outputs": [],
      "source": [
        "X_train = sc.fit_transform(X_train)\n",
        "X_test = sc.transform(X_test)"
      ]
    },
    {
      "cell_type": "code",
      "execution_count": null,
      "metadata": {
        "id": "KLw86_li3UBf"
      },
      "outputs": [],
      "source": [
        "from sklearn.linear_model import LinearRegression\n",
        "lr = LinearRegression()"
      ]
    },
    {
      "cell_type": "code",
      "execution_count": null,
      "metadata": {
        "colab": {
          "base_uri": "https://localhost:8080/",
          "height": 80
        },
        "id": "2zos_nHp5meg",
        "outputId": "94ffecf6-0cad-40d2-f800-1636f65d9a70"
      },
      "outputs": [],
      "source": [
        "lr.fit(X_train, y_train)"
      ]
    },
    {
      "cell_type": "code",
      "execution_count": null,
      "metadata": {
        "colab": {
          "base_uri": "https://localhost:8080/"
        },
        "id": "XialOJmy5o2L",
        "outputId": "3a64bdfd-b26b-4fe2-b608-3222911a1492"
      },
      "outputs": [],
      "source": [
        "print(lr.coef_)"
      ]
    },
    {
      "cell_type": "code",
      "execution_count": null,
      "metadata": {
        "colab": {
          "base_uri": "https://localhost:8080/"
        },
        "id": "rRqH3Bnl53r5",
        "outputId": "55c5e86b-4c71-4895-d453-e3e15d5ea837"
      },
      "outputs": [],
      "source": [
        "lr.intercept_"
      ]
    },
    {
      "cell_type": "code",
      "execution_count": null,
      "metadata": {
        "colab": {
          "base_uri": "https://localhost:8080/"
        },
        "id": "eXOHZvB16JSw",
        "outputId": "20b8ceb5-3082-4ebe-e14c-26c89e0a017c"
      },
      "outputs": [],
      "source": [
        "lr.get_params()"
      ]
    },
    {
      "cell_type": "code",
      "execution_count": null,
      "metadata": {
        "id": "UtM-uhtx6tRw"
      },
      "outputs": [],
      "source": [
        "a = lr.predict(X_test)"
      ]
    },
    {
      "cell_type": "code",
      "execution_count": null,
      "metadata": {
        "colab": {
          "base_uri": "https://localhost:8080/"
        },
        "id": "YSLYzqLd63PH",
        "outputId": "2d879fd3-9a8b-4e4e-b228-ad8068f5ab3d"
      },
      "outputs": [],
      "source": [
        "a"
      ]
    },
    {
      "cell_type": "code",
      "execution_count": null,
      "metadata": {
        "colab": {
          "base_uri": "https://localhost:8080/",
          "height": 447
        },
        "id": "EOS-qtiY69dP",
        "outputId": "48396f6c-f183-4345-84ea-efe0ef91c70e"
      },
      "outputs": [],
      "source": [
        "plt.scatter(y_test, a)"
      ]
    },
    {
      "cell_type": "code",
      "execution_count": null,
      "metadata": {
        "id": "cbBvM-9Y7FI8"
      },
      "outputs": [],
      "source": [
        "residuals = y_test - a"
      ]
    },
    {
      "cell_type": "code",
      "execution_count": null,
      "metadata": {
        "colab": {
          "base_uri": "https://localhost:8080/",
          "height": 458
        },
        "id": "tMdHiU9k7YHp",
        "outputId": "e935003e-0f51-42d5-8939-34fd91ed40dc"
      },
      "outputs": [],
      "source": [
        "residuals"
      ]
    },
    {
      "cell_type": "code",
      "execution_count": null,
      "metadata": {
        "colab": {
          "base_uri": "https://localhost:8080/",
          "height": 447
        },
        "id": "L2kBYFrX7aiL",
        "outputId": "cd1da7fd-cb98-43e0-8585-22ae60a451c0"
      },
      "outputs": [],
      "source": [
        "plt.scatter(y_test, residuals)"
      ]
    },
    {
      "cell_type": "code",
      "execution_count": null,
      "metadata": {
        "colab": {
          "base_uri": "https://localhost:8080/",
          "height": 523
        },
        "id": "90cxzV2_7ePD",
        "outputId": "a07c4ff5-a554-47ae-a80b-377fba716da1"
      },
      "outputs": [],
      "source": [
        "sns.displot(residuals , kind = 'kde')"
      ]
    },
    {
      "cell_type": "code",
      "execution_count": null,
      "metadata": {
        "colab": {
          "base_uri": "https://localhost:8080/",
          "height": 447
        },
        "id": "_ONf-rI07itd",
        "outputId": "e09b1d31-71a3-4476-a98b-3debcc7d3444"
      },
      "outputs": [],
      "source": [
        "plt.scatter(a, residuals)"
      ]
    },
    {
      "cell_type": "code",
      "execution_count": null,
      "metadata": {
        "id": "hKRPflo377_c"
      },
      "outputs": [],
      "source": [
        "from sklearn.metrics import mean_squared_error\n",
        "from sklearn.metrics import mean_absolute_error\n",
        "\n",
        "mse = mean_squared_error(y_test, a)\n",
        "mae = mean_absolute_error(y_test, a)\n",
        "rmse = np.sqrt(mean_squared_error(y_test, a))"
      ]
    },
    {
      "cell_type": "code",
      "execution_count": null,
      "metadata": {
        "colab": {
          "base_uri": "https://localhost:8080/"
        },
        "id": "ncxFFnzk8LaI",
        "outputId": "9a6ed6ed-8e9d-4b2b-8e0d-ae97a3489bf6"
      },
      "outputs": [],
      "source": [
        "mse"
      ]
    },
    {
      "cell_type": "code",
      "execution_count": null,
      "metadata": {
        "colab": {
          "base_uri": "https://localhost:8080/"
        },
        "id": "aozHHOkW8U8z",
        "outputId": "aa158162-9d51-4e1c-fecb-700b43bd5aaa"
      },
      "outputs": [],
      "source": [
        "mae"
      ]
    },
    {
      "cell_type": "code",
      "execution_count": null,
      "metadata": {
        "colab": {
          "base_uri": "https://localhost:8080/"
        },
        "id": "63w7OnId8V6_",
        "outputId": "8cf66c2a-da87-4abc-c0cf-e24e1c158c58"
      },
      "outputs": [],
      "source": [
        "rmse"
      ]
    },
    {
      "cell_type": "code",
      "execution_count": null,
      "metadata": {
        "colab": {
          "base_uri": "https://localhost:8080/"
        },
        "id": "-JGqozAK8d6C",
        "outputId": "f14af809-ff11-4aa0-c537-b79d2c0a4c1d"
      },
      "outputs": [],
      "source": [
        "from sklearn.metrics import r2_score\n",
        "score = r2_score(y_test, a)\n",
        "score"
      ]
    },
    {
      "cell_type": "code",
      "execution_count": null,
      "metadata": {
        "colab": {
          "base_uri": "https://localhost:8080/"
        },
        "id": "mpSdll8e9Bl0",
        "outputId": "e564d6e7-1c06-432a-84d9-cbe2b2f6d951"
      },
      "outputs": [],
      "source": [
        "1 - (1 - score) * (len(y_test) - 1) / (len(y_test) - X_test.shape[1] - 1)"
      ]
    },
    {
      "cell_type": "code",
      "execution_count": null,
      "metadata": {
        "id": "hHlKxf2t9JhN"
      },
      "outputs": [],
      "source": [
        "import pickle"
      ]
    },
    {
      "cell_type": "code",
      "execution_count": null,
      "metadata": {
        "id": "Ods8OFXA_CcI"
      },
      "outputs": [],
      "source": [
        "pickle.dump(lr, open('regmodel.pkl', 'wb'))"
      ]
    },
    {
      "cell_type": "code",
      "execution_count": null,
      "metadata": {
        "id": "8XOMTlxd_STW"
      },
      "outputs": [],
      "source": [
        "pickled_model = pickle.load(open('regmodel.pkl', 'rb'))"
      ]
    },
    {
      "cell_type": "code",
      "execution_count": null,
      "metadata": {
        "colab": {
          "base_uri": "https://localhost:8080/"
        },
        "id": "VuNy3xkB_7oS",
        "outputId": "8d617c19-6ca9-49fc-e709-bf0cc36a83d2"
      },
      "outputs": [],
      "source": [
        "pickled_model.predict(X_test)"
      ]
    },
    {
      "cell_type": "code",
      "execution_count": null,
      "metadata": {
        "id": "jLYzRUGaAAEK"
      },
      "outputs": [],
      "source": []
    }
  ],
  "metadata": {
    "colab": {
      "provenance": []
    },
    "kernelspec": {
      "display_name": "Python 3",
      "name": "python3"
    },
    "language_info": {
      "codemirror_mode": {
        "name": "ipython",
        "version": 3
      },
      "file_extension": ".py",
      "mimetype": "text/x-python",
      "name": "python",
      "nbconvert_exporter": "python",
      "pygments_lexer": "ipython3",
      "version": "3.10.7"
    }
  },
  "nbformat": 4,
  "nbformat_minor": 0
}
